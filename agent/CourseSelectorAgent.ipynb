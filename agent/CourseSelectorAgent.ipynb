{
 "cells": [
  {
   "cell_type": "markdown",
   "metadata": {},
   "source": [
    "# Building the Agent to integrate with the Chat Interface on the face"
   ]
  },
  {
   "cell_type": "markdown",
   "metadata": {},
   "source": [
    "## Create a new assistant with file_search enabled in the tools parameter of the Assistant"
   ]
  },
  {
   "cell_type": "code",
   "execution_count": null,
   "metadata": {},
   "outputs": [],
   "source": [
    "from openai import OpenAI\n",
    "\n",
    "client = OpenAI(api_key='OPEN_API_KEY')\n",
    "\n",
    "assistant = client.beta.assistants.create(\n",
    "  name=\"Course Selection Assistant\",\n",
    "  description=\"An AI assistant to help students select courses based on their degree and career goals.\",\n",
    "  instructions=\"You are an AI assistant that helps students in selecting a course based on their Degree, degree requirement and future goal (e.g. Data Scientist, UX Designer, etc.). Student need to share their Student ID, Name, their degree program and then their career goals. Then based on files that you have access to you'll respond to the courses the student can take. Keep the conversation tone helpful, engaging, and strictly do not answer any other question that is not related to course curriculum and selection. Give your response in unformatted text and do not cite resources in anyway. I just want you to simply state your answer.\",\n",
    "  model=\"gpt-4o\",\n",
    "  tools=[{\"type\": \"file_search\"}],\n",
    ")"
   ]
  },
  {
   "cell_type": "markdown",
   "metadata": {},
   "source": [
    "## Upload files and add them to a Vector Store"
   ]
  },
  {
   "cell_type": "code",
   "execution_count": null,
   "metadata": {},
   "outputs": [
    {
     "name": "stdout",
     "output_type": "stream",
     "text": [
      "completed\n",
      "FileCounts(cancelled=0, completed=2, failed=0, in_progress=0, total=2)\n"
     ]
    }
   ],
   "source": [
    "# Create a vector store to hold the files that will be used to answer questions.\n",
    "# Create a vector store caled \"Knowledge Base\"\n",
    "vector_store = client.vector_stores.create(name=\"Knowledge Base\")\n",
    "\n",
    "# Ready the files for upload to OpenAI\n",
    "file_paths = [\n",
    "    \"Knowledge Base/2023-2024 Handbook for the Master of Data Science Degree.pdf\",\n",
    "    \"Knowledge Base/BS ComputerScience Degree Handbook.pdf\",\n",
    "    \"Knowledge Base/BA Computer Science Degree Handbook.pdf\",\n",
    "    \"Knowledge Base/BS Cybersecurity & Global Policy Degree Handbook.pdf\",\n",
    "    \"Knowledge Base/BS Data Science Degree Handbook.pdf\",\n",
    "    \"Knowledge Base/BS Informatics Degree Handbook.pdf\",\n",
    "    \"Knowledge Base/BS Intelligent Systems Engineering Degree Handbook.pdf\",\n",
    "    \"Knowledge Base/Computer Science Graduate Degree Handbook.pdf\",\n",
    "    \"Knowledge Base/Doctor of Philosophy in Informatics 2020 Guidebook.pdf\",\n",
    "    \"Knowledge Base/HCI-d Graduate Programs 2022-23.pdf\",\n",
    "    \"Knowledge Base/Informatics Department Master of Science Degrees 2020 Guidebook.pdf\",\n",
    "    \"Knowledge Base/Intelligent Systems Engineering Graduate Degree Handbook.pdf\",\n",
    "    \"Knowledge Base/Master’s Student Handbook for MLS, MIS 4 plus 1 Degrees.pdf\"\n",
    "]\n",
    "file_streams = [open(path, \"rb\") for path in file_paths]\n",
    "\n",
    "# Use the upload and poll SDK helper to upload the files, add them to the vector store,\n",
    "# and poll the status of the file batch for completion.\n",
    "file_batch = client.vector_stores.file_batches.upload_and_poll(\n",
    "  vector_store_id=vector_store.id, files=file_streams\n",
    ")\n",
    "\n",
    "# Print the status and the file counts of the batch to see the result of this operation.\n",
    "print(file_batch.status)\n",
    "print(file_batch.file_counts)"
   ]
  },
  {
   "cell_type": "markdown",
   "metadata": {},
   "source": [
    "## Update the assistant to use the new Vector Store"
   ]
  },
  {
   "cell_type": "code",
   "execution_count": null,
   "metadata": {},
   "outputs": [],
   "source": [
    "# Update the assistant to use the vector store\n",
    "# and the file search tool.\n",
    "assistant = client.beta.assistants.update(\n",
    "  assistant_id=assistant.id,\n",
    "  tool_resources={\"file_search\": {\"vector_store_ids\": [vector_store.id]}},\n",
    ")"
   ]
  },
  {
   "cell_type": "markdown",
   "metadata": {},
   "source": [
    "### Agent Building Completed!"
   ]
  }
 ],
 "metadata": {
  "kernelspec": {
   "display_name": ".venv",
   "language": "python",
   "name": "python3"
  },
  "language_info": {
   "codemirror_mode": {
    "name": "ipython",
    "version": 3
   },
   "file_extension": ".py",
   "mimetype": "text/x-python",
   "name": "python",
   "nbconvert_exporter": "python",
   "pygments_lexer": "ipython3",
   "version": "3.12.9"
  }
 },
 "nbformat": 4,
 "nbformat_minor": 2
}
